{
 "cells": [
  {
   "cell_type": "code",
   "execution_count": 1,
   "id": "c0714a5b-f35a-4251-a2d5-0bd279583813",
   "metadata": {},
   "outputs": [
    {
     "name": "stdout",
     "output_type": "stream",
     "text": [
      "Requirement already satisfied: requests in /opt/anaconda3/lib/python3.12/site-packages (from -r requirements.txt (line 1)) (2.32.2)\n",
      "Requirement already satisfied: beautifulsoup4 in /opt/anaconda3/lib/python3.12/site-packages (from -r requirements.txt (line 2)) (4.12.3)\n",
      "Requirement already satisfied: charset-normalizer<4,>=2 in /opt/anaconda3/lib/python3.12/site-packages (from requests->-r requirements.txt (line 1)) (2.0.4)\n",
      "Requirement already satisfied: idna<4,>=2.5 in /opt/anaconda3/lib/python3.12/site-packages (from requests->-r requirements.txt (line 1)) (3.7)\n",
      "Requirement already satisfied: urllib3<3,>=1.21.1 in /opt/anaconda3/lib/python3.12/site-packages (from requests->-r requirements.txt (line 1)) (2.2.2)\n",
      "Requirement already satisfied: certifi>=2017.4.17 in /opt/anaconda3/lib/python3.12/site-packages (from requests->-r requirements.txt (line 1)) (2024.7.4)\n",
      "Requirement already satisfied: soupsieve>1.2 in /opt/anaconda3/lib/python3.12/site-packages (from beautifulsoup4->-r requirements.txt (line 2)) (2.5)\n",
      "Note: you may need to restart the kernel to use updated packages.\n"
     ]
    }
   ],
   "source": [
    "pip install -r requirements.txt"
   ]
  },
  {
   "cell_type": "code",
   "execution_count": 7,
   "id": "ca15fe97-9145-482a-8d02-8112b03825a9",
   "metadata": {},
   "outputs": [],
   "source": [
    "import requests\n",
    "from bs4 import BeautifulSoup"
   ]
  },
  {
   "cell_type": "markdown",
   "id": "197a95e5-a72d-445e-849c-976a12678137",
   "metadata": {},
   "source": [
    "### Method to take web URL and return content"
   ]
  },
  {
   "cell_type": "code",
   "execution_count": 11,
   "id": "ac728bd1-04b3-4696-a7e7-7d8b5601f8d7",
   "metadata": {},
   "outputs": [],
   "source": [
    "def get_page_contents(url):\n",
    "    headers = {\n",
    "        'User-Agent': 'Mozilla/5.0 (Windows NT 10.0; Win64; x64) AppleWebKit/537.36 (KHTML, like Gecko) Chrome/107.0.0.0 Safari/537.36'\n",
    "    }\n",
    "\n",
    "    page = requests.get(url, headers=headers)\n",
    "\n",
    "    if page.status_code == 200:\n",
    "        return page.text\n",
    "\n",
    "    return None"
   ]
  },
  {
   "cell_type": "markdown",
   "id": "f7b1e838-d18b-460b-b877-dc4169498140",
   "metadata": {},
   "source": [
    "### Method that uses BeautifulSoup to parse and return HTML data"
   ]
  },
  {
   "cell_type": "code",
   "execution_count": 14,
   "id": "94051347-60ba-481f-8059-130b0ca644b6",
   "metadata": {},
   "outputs": [],
   "source": [
    "def get_quotes_and_authors(page_contents):\n",
    "    soup = BeautifulSoup(page_contents, 'html.parser')\n",
    "    quotes = soup.find_all('span', class_='text')\n",
    "    authors = soup.find_all('small', class_='author')\n",
    "    return quotes, authors"
   ]
  },
  {
   "cell_type": "code",
   "execution_count": 16,
   "id": "bef7353a-f06c-4525-8717-9bb8cc46d313",
   "metadata": {},
   "outputs": [
    {
     "name": "stdout",
     "output_type": "stream",
     "text": [
      "“The world as we have created it is a process of our thinking. It cannot be changed without changing our thinking.”\n",
      "Albert Einstein\n",
      "\n",
      "“It is our choices, Harry, that show what we truly are, far more than our abilities.”\n",
      "J.K. Rowling\n",
      "\n",
      "“There are only two ways to live your life. One is as though nothing is a miracle. The other is as though everything is a miracle.”\n",
      "Albert Einstein\n",
      "\n",
      "“The person, be it gentleman or lady, who has not pleasure in a good novel, must be intolerably stupid.”\n",
      "Jane Austen\n",
      "\n",
      "“Imperfection is beauty, madness is genius and it's better to be absolutely ridiculous than absolutely boring.”\n",
      "Marilyn Monroe\n",
      "\n",
      "“Try not to become a man of success. Rather become a man of value.”\n",
      "Albert Einstein\n",
      "\n",
      "“It is better to be hated for what you are than to be loved for what you are not.”\n",
      "André Gide\n",
      "\n",
      "“I have not failed. I've just found 10,000 ways that won't work.”\n",
      "Thomas A. Edison\n",
      "\n",
      "“A woman is like a tea bag; you never know how strong it is until it's in hot water.”\n",
      "Eleanor Roosevelt\n",
      "\n",
      "“A day without sunshine is like, you know, night.”\n",
      "Steve Martin\n",
      "\n"
     ]
    }
   ],
   "source": [
    "if __name__ == '__main__':\n",
    "    url = 'http://quotes.toscrape.com'\n",
    "    page_contents = get_page_contents(url)\n",
    "\n",
    "    if page_contents:\n",
    "        quotes, authors = get_quotes_and_authors(page_contents)\n",
    "        for i in range(len(quotes)):\n",
    "            print(quotes[i].text)\n",
    "            print(authors[i].text)\n",
    "            print()\n",
    "    else:\n",
    "        print('Failed to get page contents.')"
   ]
  },
  {
   "cell_type": "code",
   "execution_count": null,
   "id": "51f1f597-9839-499a-966b-0651fba24f61",
   "metadata": {},
   "outputs": [],
   "source": []
  }
 ],
 "metadata": {
  "kernelspec": {
   "display_name": "Python 3 (ipykernel)",
   "language": "python",
   "name": "python3"
  },
  "language_info": {
   "codemirror_mode": {
    "name": "ipython",
    "version": 3
   },
   "file_extension": ".py",
   "mimetype": "text/x-python",
   "name": "python",
   "nbconvert_exporter": "python",
   "pygments_lexer": "ipython3",
   "version": "3.12.4"
  }
 },
 "nbformat": 4,
 "nbformat_minor": 5
}
